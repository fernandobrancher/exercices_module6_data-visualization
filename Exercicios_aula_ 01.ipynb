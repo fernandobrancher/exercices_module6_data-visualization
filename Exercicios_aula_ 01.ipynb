{
 "cells": [
  {
   "attachments": {},
   "cell_type": "markdown",
   "metadata": {},
   "source": [
    "# Exercícios"
   ]
  },
  {
   "cell_type": "markdown",
   "metadata": {},
   "source": [
    "Utilizando a plotagem com pandas, reproduzam as visualizações abaixo, tentando deixá-las o mais próximas quanto possível da maneira como estão postas. Para isso, atentem-se às personalizações dos gráficos, como títulos, legendas, eixos e outros tipos possíveis de formatações e preferências de visualizações dos dados. Também é interessante que vocês discutam possíveis pontos de melhorias dessas visualizações!"
   ]
  },
  {
   "cell_type": "markdown",
   "metadata": {},
   "source": [
    "**Exercício 1.** Reproduza o gráfico de barras abaixo, em que cada barra representa um dos 10 países com mais casos confirmados de COVID no dataset, e a \"quebra\" em cada cor indica a predominância de casos confirmados em cada mês."
   ]
  },
  {
   "cell_type": "code",
   "execution_count": 1,
   "metadata": {},
   "outputs": [],
   "source": [
    "import pandas as pd\n",
    "import datetime"
   ]
  },
  {
   "cell_type": "code",
   "execution_count": 11,
   "metadata": {},
   "outputs": [
    {
     "data": {
      "text/html": [
       "<div>\n",
       "<style scoped>\n",
       "    .dataframe tbody tr th:only-of-type {\n",
       "        vertical-align: middle;\n",
       "    }\n",
       "\n",
       "    .dataframe tbody tr th {\n",
       "        vertical-align: top;\n",
       "    }\n",
       "\n",
       "    .dataframe thead th {\n",
       "        text-align: right;\n",
       "    }\n",
       "</style>\n",
       "<table border=\"1\" class=\"dataframe\">\n",
       "  <thead>\n",
       "    <tr style=\"text-align: right;\">\n",
       "      <th></th>\n",
       "      <th>Unnamed: 0</th>\n",
       "      <th>ObservationDate</th>\n",
       "      <th>country</th>\n",
       "      <th>Confirmed</th>\n",
       "      <th>Deaths</th>\n",
       "      <th>Recovered</th>\n",
       "      <th>Code</th>\n",
       "      <th>latitude</th>\n",
       "      <th>longitude</th>\n",
       "      <th>New Confirmed</th>\n",
       "      <th>New Recovered</th>\n",
       "      <th>New Death</th>\n",
       "      <th>date</th>\n",
       "      <th>month</th>\n",
       "    </tr>\n",
       "  </thead>\n",
       "  <tbody>\n",
       "    <tr>\n",
       "      <th>0</th>\n",
       "      <td>1063</td>\n",
       "      <td>02/28/2020</td>\n",
       "      <td>azerbaijan</td>\n",
       "      <td>1</td>\n",
       "      <td>0</td>\n",
       "      <td>0</td>\n",
       "      <td>NaN</td>\n",
       "      <td>NaN</td>\n",
       "      <td>NaN</td>\n",
       "      <td>0</td>\n",
       "      <td>0</td>\n",
       "      <td>0</td>\n",
       "      <td>2020-02-28</td>\n",
       "      <td>2020-02</td>\n",
       "    </tr>\n",
       "    <tr>\n",
       "      <th>1</th>\n",
       "      <td>2055</td>\n",
       "      <td>03/10/2020</td>\n",
       "      <td>('st. martin',)</td>\n",
       "      <td>2</td>\n",
       "      <td>0</td>\n",
       "      <td>0</td>\n",
       "      <td>NaN</td>\n",
       "      <td>NaN</td>\n",
       "      <td>NaN</td>\n",
       "      <td>2</td>\n",
       "      <td>0</td>\n",
       "      <td>0</td>\n",
       "      <td>2020-03-10</td>\n",
       "      <td>2020-03</td>\n",
       "    </tr>\n",
       "    <tr>\n",
       "      <th>2</th>\n",
       "      <td>869</td>\n",
       "      <td>02/24/2020</td>\n",
       "      <td>afghanistan</td>\n",
       "      <td>1</td>\n",
       "      <td>0</td>\n",
       "      <td>0</td>\n",
       "      <td>AF</td>\n",
       "      <td>33.93911</td>\n",
       "      <td>67.709953</td>\n",
       "      <td>1</td>\n",
       "      <td>0</td>\n",
       "      <td>0</td>\n",
       "      <td>2020-02-24</td>\n",
       "      <td>2020-02</td>\n",
       "    </tr>\n",
       "    <tr>\n",
       "      <th>3</th>\n",
       "      <td>909</td>\n",
       "      <td>02/25/2020</td>\n",
       "      <td>afghanistan</td>\n",
       "      <td>1</td>\n",
       "      <td>0</td>\n",
       "      <td>0</td>\n",
       "      <td>AF</td>\n",
       "      <td>33.93911</td>\n",
       "      <td>67.709953</td>\n",
       "      <td>0</td>\n",
       "      <td>0</td>\n",
       "      <td>0</td>\n",
       "      <td>2020-02-25</td>\n",
       "      <td>2020-02</td>\n",
       "    </tr>\n",
       "    <tr>\n",
       "      <th>4</th>\n",
       "      <td>955</td>\n",
       "      <td>02/26/2020</td>\n",
       "      <td>afghanistan</td>\n",
       "      <td>1</td>\n",
       "      <td>0</td>\n",
       "      <td>0</td>\n",
       "      <td>AF</td>\n",
       "      <td>33.93911</td>\n",
       "      <td>67.709953</td>\n",
       "      <td>0</td>\n",
       "      <td>0</td>\n",
       "      <td>0</td>\n",
       "      <td>2020-02-26</td>\n",
       "      <td>2020-02</td>\n",
       "    </tr>\n",
       "  </tbody>\n",
       "</table>\n",
       "</div>"
      ],
      "text/plain": [
       "   Unnamed: 0 ObservationDate          country  Confirmed  Deaths  Recovered  \\\n",
       "0        1063      02/28/2020       azerbaijan          1       0          0   \n",
       "1        2055      03/10/2020  ('st. martin',)          2       0          0   \n",
       "2         869      02/24/2020      afghanistan          1       0          0   \n",
       "3         909      02/25/2020      afghanistan          1       0          0   \n",
       "4         955      02/26/2020      afghanistan          1       0          0   \n",
       "\n",
       "  Code  latitude  longitude  New Confirmed  New Recovered  New Death  \\\n",
       "0  NaN       NaN        NaN              0              0          0   \n",
       "1  NaN       NaN        NaN              2              0          0   \n",
       "2   AF  33.93911  67.709953              1              0          0   \n",
       "3   AF  33.93911  67.709953              0              0          0   \n",
       "4   AF  33.93911  67.709953              0              0          0   \n",
       "\n",
       "        date    month  \n",
       "0 2020-02-28  2020-02  \n",
       "1 2020-03-10  2020-03  \n",
       "2 2020-02-24  2020-02  \n",
       "3 2020-02-25  2020-02  \n",
       "4 2020-02-26  2020-02  "
      ]
     },
     "execution_count": 11,
     "metadata": {},
     "output_type": "execute_result"
    }
   ],
   "source": [
    "df = pd.read_csv('Covid_19_Countrywise_timeseries.csv')\n",
    "df['date'] = pd.to_datetime(df['ObservationDate'])\n",
    "df['month'] = pd.DatetimeIndex(df['date']).to_period('M')\n",
    "df.head()"
   ]
  },
  {
   "cell_type": "code",
   "execution_count": 15,
   "metadata": {},
   "outputs": [
    {
     "data": {
      "text/html": [
       "<div>\n",
       "<style scoped>\n",
       "    .dataframe tbody tr th:only-of-type {\n",
       "        vertical-align: middle;\n",
       "    }\n",
       "\n",
       "    .dataframe tbody tr th {\n",
       "        vertical-align: top;\n",
       "    }\n",
       "\n",
       "    .dataframe thead th {\n",
       "        text-align: right;\n",
       "    }\n",
       "</style>\n",
       "<table border=\"1\" class=\"dataframe\">\n",
       "  <thead>\n",
       "    <tr style=\"text-align: right;\">\n",
       "      <th>month</th>\n",
       "      <th>2020-01</th>\n",
       "      <th>2020-02</th>\n",
       "      <th>2020-03</th>\n",
       "    </tr>\n",
       "    <tr>\n",
       "      <th>country</th>\n",
       "      <th></th>\n",
       "      <th></th>\n",
       "      <th></th>\n",
       "    </tr>\n",
       "  </thead>\n",
       "  <tbody>\n",
       "    <tr>\n",
       "      <th>china</th>\n",
       "      <td>37897.0</td>\n",
       "      <td>1631535.0</td>\n",
       "      <td>2262366.0</td>\n",
       "    </tr>\n",
       "    <tr>\n",
       "      <th>italy</th>\n",
       "      <td>2.0</td>\n",
       "      <td>3966.0</td>\n",
       "      <td>901901.0</td>\n",
       "    </tr>\n",
       "    <tr>\n",
       "      <th>us</th>\n",
       "      <td>37.0</td>\n",
       "      <td>718.0</td>\n",
       "      <td>595832.0</td>\n",
       "    </tr>\n",
       "    <tr>\n",
       "      <th>spain</th>\n",
       "      <td>0.0</td>\n",
       "      <td>151.0</td>\n",
       "      <td>478392.0</td>\n",
       "    </tr>\n",
       "    <tr>\n",
       "      <th>iran</th>\n",
       "      <td>0.0</td>\n",
       "      <td>1617.0</td>\n",
       "      <td>401538.0</td>\n",
       "    </tr>\n",
       "    <tr>\n",
       "      <th>germany</th>\n",
       "      <td>17.0</td>\n",
       "      <td>561.0</td>\n",
       "      <td>387391.0</td>\n",
       "    </tr>\n",
       "    <tr>\n",
       "      <th>france</th>\n",
       "      <td>30.0</td>\n",
       "      <td>466.0</td>\n",
       "      <td>270964.0</td>\n",
       "    </tr>\n",
       "    <tr>\n",
       "      <th>south korea</th>\n",
       "      <td>36.0</td>\n",
       "      <td>12128.0</td>\n",
       "      <td>215824.0</td>\n",
       "    </tr>\n",
       "    <tr>\n",
       "      <th>switzerland</th>\n",
       "      <td>0.0</td>\n",
       "      <td>36.0</td>\n",
       "      <td>107745.0</td>\n",
       "    </tr>\n",
       "    <tr>\n",
       "      <th>uk</th>\n",
       "      <td>2.0</td>\n",
       "      <td>242.0</td>\n",
       "      <td>97768.0</td>\n",
       "    </tr>\n",
       "  </tbody>\n",
       "</table>\n",
       "</div>"
      ],
      "text/plain": [
       "month        2020-01    2020-02    2020-03\n",
       "country                                   \n",
       "china        37897.0  1631535.0  2262366.0\n",
       "italy            2.0     3966.0   901901.0\n",
       "us              37.0      718.0   595832.0\n",
       "spain            0.0      151.0   478392.0\n",
       "iran             0.0     1617.0   401538.0\n",
       "germany         17.0      561.0   387391.0\n",
       "france          30.0      466.0   270964.0\n",
       "south korea     36.0    12128.0   215824.0\n",
       "switzerland      0.0       36.0   107745.0\n",
       "uk               2.0      242.0    97768.0"
      ]
     },
     "execution_count": 15,
     "metadata": {},
     "output_type": "execute_result"
    }
   ],
   "source": [
    "# solução sugerido por Bruno (durante a aula)\n",
    "matriz_filtrada = pd.pivot_table(df, values = 'Confirmed', index = 'country', columns = 'month', aggfunc = 'sum').fillna(0)\n",
    "matriz_filtrada = matriz_filtrada.sort_values('2020-03', ascending=False)[:10]\n",
    "matriz_filtrada"
   ]
  },
  {
   "cell_type": "code",
   "execution_count": 16,
   "metadata": {},
   "outputs": [
    {
     "data": {
      "text/plain": [
       "<Axes: ylabel='country'>"
      ]
     },
     "execution_count": 16,
     "metadata": {},
     "output_type": "execute_result"
    },
    {
     "data": {
      "image/png": "[encoded data removed]",
      "text/plain": [
       "<Figure size 640x480 with 1 Axes>"
      ]
     },
     "metadata": {},
     "output_type": "display_data"
    }
   ],
   "source": [
    "matriz_filtrada.plot(kind='barh', stacked=True)"
   ]
  },
  {
   "cell_type": "code",
   "execution_count": 18,
   "metadata": {},
   "outputs": [
    {
     "data": {
      "text/html": [
       "<div>\n",
       "<style scoped>\n",
       "    .dataframe tbody tr th:only-of-type {\n",
       "        vertical-align: middle;\n",
       "    }\n",
       "\n",
       "    .dataframe tbody tr th {\n",
       "        vertical-align: top;\n",
       "    }\n",
       "\n",
       "    .dataframe thead th {\n",
       "        text-align: right;\n",
       "    }\n",
       "</style>\n",
       "<table border=\"1\" class=\"dataframe\">\n",
       "  <thead>\n",
       "    <tr style=\"text-align: right;\">\n",
       "      <th>month</th>\n",
       "      <th>2020-01</th>\n",
       "      <th>2020-02</th>\n",
       "      <th>2020-03</th>\n",
       "    </tr>\n",
       "    <tr>\n",
       "      <th>country</th>\n",
       "      <th></th>\n",
       "      <th></th>\n",
       "      <th></th>\n",
       "    </tr>\n",
       "  </thead>\n",
       "  <tbody>\n",
       "    <tr>\n",
       "      <th>azerbaijan</th>\n",
       "      <td>0.0</td>\n",
       "      <td>1.0</td>\n",
       "      <td>0.0</td>\n",
       "    </tr>\n",
       "    <tr>\n",
       "      <th>('st. martin',)</th>\n",
       "      <td>0.0</td>\n",
       "      <td>0.0</td>\n",
       "      <td>2.0</td>\n",
       "    </tr>\n",
       "    <tr>\n",
       "      <th>afghanistan</th>\n",
       "      <td>0.0</td>\n",
       "      <td>6.0</td>\n",
       "      <td>755.0</td>\n",
       "    </tr>\n",
       "    <tr>\n",
       "      <th>albania</th>\n",
       "      <td>0.0</td>\n",
       "      <td>0.0</td>\n",
       "      <td>1554.0</td>\n",
       "    </tr>\n",
       "    <tr>\n",
       "      <th>algeria</th>\n",
       "      <td>0.0</td>\n",
       "      <td>5.0</td>\n",
       "      <td>3012.0</td>\n",
       "    </tr>\n",
       "    <tr>\n",
       "      <th>...</th>\n",
       "      <td>...</td>\n",
       "      <td>...</td>\n",
       "      <td>...</td>\n",
       "    </tr>\n",
       "    <tr>\n",
       "      <th>venezuela</th>\n",
       "      <td>0.0</td>\n",
       "      <td>0.0</td>\n",
       "      <td>907.0</td>\n",
       "    </tr>\n",
       "    <tr>\n",
       "      <th>vietnam</th>\n",
       "      <td>18.0</td>\n",
       "      <td>398.0</td>\n",
       "      <td>1911.0</td>\n",
       "    </tr>\n",
       "    <tr>\n",
       "      <th>west bank and gaza</th>\n",
       "      <td>0.0</td>\n",
       "      <td>0.0</td>\n",
       "      <td>273.0</td>\n",
       "    </tr>\n",
       "    <tr>\n",
       "      <th>zambia</th>\n",
       "      <td>0.0</td>\n",
       "      <td>0.0</td>\n",
       "      <td>95.0</td>\n",
       "    </tr>\n",
       "    <tr>\n",
       "      <th>zimbabwe</th>\n",
       "      <td>0.0</td>\n",
       "      <td>0.0</td>\n",
       "      <td>31.0</td>\n",
       "    </tr>\n",
       "  </tbody>\n",
       "</table>\n",
       "<p>212 rows × 3 columns</p>\n",
       "</div>"
      ],
      "text/plain": [
       "month               2020-01  2020-02  2020-03\n",
       "country                                      \n",
       " azerbaijan             0.0      1.0      0.0\n",
       "('st. martin',)         0.0      0.0      2.0\n",
       "afghanistan             0.0      6.0    755.0\n",
       "albania                 0.0      0.0   1554.0\n",
       "algeria                 0.0      5.0   3012.0\n",
       "...                     ...      ...      ...\n",
       "venezuela               0.0      0.0    907.0\n",
       "vietnam                18.0    398.0   1911.0\n",
       "west bank and gaza      0.0      0.0    273.0\n",
       "zambia                  0.0      0.0     95.0\n",
       "zimbabwe                0.0      0.0     31.0\n",
       "\n",
       "[212 rows x 3 columns]"
      ]
     },
     "execution_count": 18,
     "metadata": {},
     "output_type": "execute_result"
    }
   ],
   "source": [
    "#outra opção, sugerida pelo professor\n",
    "df.groupby(['country', 'month'])['Confirmed'].sum().unstack().fillna(0)"
   ]
  },
  {
   "cell_type": "code",
   "execution_count": 145,
   "metadata": {},
   "outputs": [
    {
     "data": {
      "text/plain": [
       "<AxesSubplot:ylabel='country'>"
      ]
     },
     "execution_count": 145,
     "metadata": {},
     "output_type": "execute_result"
    },
    {
     "data": {
      "image/png": "[encoded data removed]",
      "text/plain": [
       "<Figure size 432x288 with 1 Axes>"
      ]
     },
     "metadata": {
      "needs_background": "light"
     },
     "output_type": "display_data"
    }
   ],
   "source": [
    "# o que se espera de output"
   ]
  },
  {
   "cell_type": "markdown",
   "metadata": {},
   "source": [
    "Para os exercícios abaixo, vamos trabalhar com um dataset de [emissão de CO2 por país, ao longo do tempo](https://www.kaggle.com/datasets/ulrikthygepedersen/co2-emissions-by-country)."
   ]
  },
  {
   "cell_type": "markdown",
   "metadata": {},
   "source": [
    "**Exercício 2.** Reproduza o gráfico de linhas abaixo, que representa a série temporal da evolução de emissões de CO2 no Brasil."
   ]
  },
  {
   "cell_type": "code",
   "execution_count": 7,
   "metadata": {},
   "outputs": [
    {
     "data": {
      "text/plain": [
       "<AxesSubplot: title={'center': 'Histórico de emissões de CO2 no Brasil'}, xlabel='Ano'>"
      ]
     },
     "execution_count": 7,
     "metadata": {},
     "output_type": "execute_result"
    },
    {
     "data": {
      "image/png": "[encoded data removed]",
      "text/plain": [
       "<Figure size 432x288 with 1 Axes>"
      ]
     },
     "metadata": {
      "needs_background": "light"
     },
     "output_type": "display_data"
    }
   ],
   "source": [
    "# output esperado"
   ]
  },
  {
   "cell_type": "code",
   "execution_count": 20,
   "metadata": {},
   "outputs": [
    {
     "data": {
      "text/html": [
       "<div>\n",
       "<style scoped>\n",
       "    .dataframe tbody tr th:only-of-type {\n",
       "        vertical-align: middle;\n",
       "    }\n",
       "\n",
       "    .dataframe tbody tr th {\n",
       "        vertical-align: top;\n",
       "    }\n",
       "\n",
       "    .dataframe thead th {\n",
       "        text-align: right;\n",
       "    }\n",
       "</style>\n",
       "<table border=\"1\" class=\"dataframe\">\n",
       "  <thead>\n",
       "    <tr style=\"text-align: right;\">\n",
       "      <th></th>\n",
       "      <th>country_code</th>\n",
       "      <th>country_name</th>\n",
       "      <th>year</th>\n",
       "      <th>value</th>\n",
       "    </tr>\n",
       "  </thead>\n",
       "  <tbody>\n",
       "    <tr>\n",
       "      <th>0</th>\n",
       "      <td>ABW</td>\n",
       "      <td>Aruba</td>\n",
       "      <td>1960</td>\n",
       "      <td>11092.675</td>\n",
       "    </tr>\n",
       "    <tr>\n",
       "      <th>1</th>\n",
       "      <td>ABW</td>\n",
       "      <td>Aruba</td>\n",
       "      <td>1961</td>\n",
       "      <td>11576.719</td>\n",
       "    </tr>\n",
       "    <tr>\n",
       "      <th>2</th>\n",
       "      <td>ABW</td>\n",
       "      <td>Aruba</td>\n",
       "      <td>1962</td>\n",
       "      <td>12713.489</td>\n",
       "    </tr>\n",
       "    <tr>\n",
       "      <th>3</th>\n",
       "      <td>ABW</td>\n",
       "      <td>Aruba</td>\n",
       "      <td>1963</td>\n",
       "      <td>12178.107</td>\n",
       "    </tr>\n",
       "    <tr>\n",
       "      <th>4</th>\n",
       "      <td>ABW</td>\n",
       "      <td>Aruba</td>\n",
       "      <td>1964</td>\n",
       "      <td>11840.743</td>\n",
       "    </tr>\n",
       "  </tbody>\n",
       "</table>\n",
       "</div>"
      ],
      "text/plain": [
       "  country_code country_name  year      value\n",
       "0          ABW        Aruba  1960  11092.675\n",
       "1          ABW        Aruba  1961  11576.719\n",
       "2          ABW        Aruba  1962  12713.489\n",
       "3          ABW        Aruba  1963  12178.107\n",
       "4          ABW        Aruba  1964  11840.743"
      ]
     },
     "execution_count": 20,
     "metadata": {},
     "output_type": "execute_result"
    }
   ],
   "source": [
    "df_2 = pd.read_csv('co2_emissions_kt_by_country.csv')\n",
    "df_2.head()"
   ]
  },
  {
   "cell_type": "code",
   "execution_count": 21,
   "metadata": {},
   "outputs": [
    {
     "data": {
      "text/plain": [
       "<Axes: title={'center': 'Histórico de emissões de CO2 no Brasil'}, xlabel='Ano'>"
      ]
     },
     "execution_count": 21,
     "metadata": {},
     "output_type": "execute_result"
    },
    {
     "data": {
      "image/png": "[encoded data removed]",
      "text/plain": [
       "<Figure size 640x480 with 1 Axes>"
      ]
     },
     "metadata": {},
     "output_type": "display_data"
    }
   ],
   "source": [
    "df_2[df_2['country_name']=='Brazil'].plot(title = 'Histórico de emissões de CO2 no Brasil', x = 'year', y = 'value', xlabel = 'Ano', legend = False)"
   ]
  },
  {
   "cell_type": "markdown",
   "metadata": {},
   "source": [
    "**Exercício 3**. Uma visualização muito similar à anterior, mas com a adição da média global de emissão de CO2 (o Brasil deve ser incluído na linha da média global?)."
   ]
  },
  {
   "cell_type": "code",
   "execution_count": 23,
   "metadata": {},
   "outputs": [
    {
     "data": {
      "text/plain": [
       "<Axes: title={'center': 'Histórico de emissões de CO2 no Brasil versus Média Global'}, xlabel='year'>"
      ]
     },
     "execution_count": 23,
     "metadata": {},
     "output_type": "execute_result"
    },
    {
     "data": {
      "image/png": "[encoded data removed]",
      "text/plain": [
       "<Figure size 640x480 with 1 Axes>"
      ]
     },
     "metadata": {},
     "output_type": "display_data"
    }
   ],
   "source": [
    "ax = df_2[df_2['country_name']=='Brazil'].plot(title = 'Histórico de emissões de CO2 no Brasil versus Média Global', x = 'year', y = 'value', xlabel = 'Ano')\n",
    "\n",
    "df_2.groupby('year')['value'].mean().plot(ax = ax)"
   ]
  },
  {
   "cell_type": "code",
   "execution_count": 24,
   "metadata": {},
   "outputs": [
    {
     "data": {
      "text/plain": [
       "<Axes: >"
      ]
     },
     "execution_count": 24,
     "metadata": {},
     "output_type": "execute_result"
    },
    {
     "data": {
      "image/png": "[encoded data removed]",
      "text/plain": [
       "<Figure size 640x480 with 1 Axes>"
      ]
     },
     "metadata": {},
     "output_type": "display_data"
    }
   ],
   "source": [
    "# outra opção (ele já imprime as duas, mas precisa ter a coluna com a média global)\n",
    "df_2[df_2['country_name']=='Brazil'].plot()"
   ]
  },
  {
   "cell_type": "markdown",
   "metadata": {},
   "source": [
    "**Exercício 4.** Os 10 países que mais aumentaram, percentualmente, a emissão de CO2 entre os anos de 2018 e 2019, na forma de um gráfico de barras horizontal."
   ]
  },
  {
   "cell_type": "code",
   "execution_count": null,
   "metadata": {},
   "outputs": [],
   "source": [
    "# pra ter o top 10 usa o sort_values e depois uns slice [0:10], tipo exercicio 1"
   ]
  },
  {
   "cell_type": "code",
   "execution_count": 25,
   "metadata": {},
   "outputs": [
    {
     "data": {
      "text/html": [
       "<div>\n",
       "<style scoped>\n",
       "    .dataframe tbody tr th:only-of-type {\n",
       "        vertical-align: middle;\n",
       "    }\n",
       "\n",
       "    .dataframe tbody tr th {\n",
       "        vertical-align: top;\n",
       "    }\n",
       "\n",
       "    .dataframe thead th {\n",
       "        text-align: right;\n",
       "    }\n",
       "</style>\n",
       "<table border=\"1\" class=\"dataframe\">\n",
       "  <thead>\n",
       "    <tr style=\"text-align: right;\">\n",
       "      <th></th>\n",
       "      <th>country_code</th>\n",
       "      <th>country_name</th>\n",
       "      <th>year</th>\n",
       "      <th>value</th>\n",
       "    </tr>\n",
       "  </thead>\n",
       "  <tbody>\n",
       "    <tr>\n",
       "      <th>0</th>\n",
       "      <td>ABW</td>\n",
       "      <td>Aruba</td>\n",
       "      <td>1960</td>\n",
       "      <td>11092.675</td>\n",
       "    </tr>\n",
       "    <tr>\n",
       "      <th>1</th>\n",
       "      <td>ABW</td>\n",
       "      <td>Aruba</td>\n",
       "      <td>1961</td>\n",
       "      <td>11576.719</td>\n",
       "    </tr>\n",
       "    <tr>\n",
       "      <th>2</th>\n",
       "      <td>ABW</td>\n",
       "      <td>Aruba</td>\n",
       "      <td>1962</td>\n",
       "      <td>12713.489</td>\n",
       "    </tr>\n",
       "    <tr>\n",
       "      <th>3</th>\n",
       "      <td>ABW</td>\n",
       "      <td>Aruba</td>\n",
       "      <td>1963</td>\n",
       "      <td>12178.107</td>\n",
       "    </tr>\n",
       "    <tr>\n",
       "      <th>4</th>\n",
       "      <td>ABW</td>\n",
       "      <td>Aruba</td>\n",
       "      <td>1964</td>\n",
       "      <td>11840.743</td>\n",
       "    </tr>\n",
       "  </tbody>\n",
       "</table>\n",
       "</div>"
      ],
      "text/plain": [
       "  country_code country_name  year      value\n",
       "0          ABW        Aruba  1960  11092.675\n",
       "1          ABW        Aruba  1961  11576.719\n",
       "2          ABW        Aruba  1962  12713.489\n",
       "3          ABW        Aruba  1963  12178.107\n",
       "4          ABW        Aruba  1964  11840.743"
      ]
     },
     "execution_count": 25,
     "metadata": {},
     "output_type": "execute_result"
    }
   ],
   "source": [
    "df_2.head()"
   ]
  },
  {
   "cell_type": "code",
   "execution_count": 26,
   "metadata": {},
   "outputs": [
    {
     "data": {
      "text/html": [
       "<div>\n",
       "<style scoped>\n",
       "    .dataframe tbody tr th:only-of-type {\n",
       "        vertical-align: middle;\n",
       "    }\n",
       "\n",
       "    .dataframe tbody tr th {\n",
       "        vertical-align: top;\n",
       "    }\n",
       "\n",
       "    .dataframe thead th {\n",
       "        text-align: right;\n",
       "    }\n",
       "</style>\n",
       "<table border=\"1\" class=\"dataframe\">\n",
       "  <thead>\n",
       "    <tr style=\"text-align: right;\">\n",
       "      <th></th>\n",
       "      <th>country_code</th>\n",
       "      <th>country_name</th>\n",
       "      <th>year</th>\n",
       "      <th>value</th>\n",
       "    </tr>\n",
       "  </thead>\n",
       "  <tbody>\n",
       "    <tr>\n",
       "      <th>116</th>\n",
       "      <td>AFE</td>\n",
       "      <td>Africa Eastern and Southern</td>\n",
       "      <td>2019</td>\n",
       "      <td>603030.016154</td>\n",
       "    </tr>\n",
       "    <tr>\n",
       "      <th>176</th>\n",
       "      <td>AFG</td>\n",
       "      <td>Afghanistan</td>\n",
       "      <td>2019</td>\n",
       "      <td>6079.999924</td>\n",
       "    </tr>\n",
       "    <tr>\n",
       "      <th>236</th>\n",
       "      <td>AFW</td>\n",
       "      <td>Africa Western and Central</td>\n",
       "      <td>2019</td>\n",
       "      <td>220740.000024</td>\n",
       "    </tr>\n",
       "    <tr>\n",
       "      <th>296</th>\n",
       "      <td>AGO</td>\n",
       "      <td>Angola</td>\n",
       "      <td>2019</td>\n",
       "      <td>25209.999084</td>\n",
       "    </tr>\n",
       "    <tr>\n",
       "      <th>356</th>\n",
       "      <td>ALB</td>\n",
       "      <td>Albania</td>\n",
       "      <td>2019</td>\n",
       "      <td>4829.999924</td>\n",
       "    </tr>\n",
       "    <tr>\n",
       "      <th>...</th>\n",
       "      <td>...</td>\n",
       "      <td>...</td>\n",
       "      <td>...</td>\n",
       "      <td>...</td>\n",
       "    </tr>\n",
       "    <tr>\n",
       "      <th>13711</th>\n",
       "      <td>WSM</td>\n",
       "      <td>Samoa</td>\n",
       "      <td>2019</td>\n",
       "      <td>300.000012</td>\n",
       "    </tr>\n",
       "    <tr>\n",
       "      <th>13780</th>\n",
       "      <td>YEM</td>\n",
       "      <td>Yemen, Rep.</td>\n",
       "      <td>2019</td>\n",
       "      <td>11100.000381</td>\n",
       "    </tr>\n",
       "    <tr>\n",
       "      <th>13840</th>\n",
       "      <td>ZAF</td>\n",
       "      <td>South Africa</td>\n",
       "      <td>2019</td>\n",
       "      <td>439640.014648</td>\n",
       "    </tr>\n",
       "    <tr>\n",
       "      <th>13896</th>\n",
       "      <td>ZMB</td>\n",
       "      <td>Zambia</td>\n",
       "      <td>2019</td>\n",
       "      <td>6800.000191</td>\n",
       "    </tr>\n",
       "    <tr>\n",
       "      <th>13952</th>\n",
       "      <td>ZWE</td>\n",
       "      <td>Zimbabwe</td>\n",
       "      <td>2019</td>\n",
       "      <td>11760.000229</td>\n",
       "    </tr>\n",
       "  </tbody>\n",
       "</table>\n",
       "<p>239 rows × 4 columns</p>\n",
       "</div>"
      ],
      "text/plain": [
       "      country_code                 country_name  year          value\n",
       "116            AFE  Africa Eastern and Southern  2019  603030.016154\n",
       "176            AFG                  Afghanistan  2019    6079.999924\n",
       "236            AFW   Africa Western and Central  2019  220740.000024\n",
       "296            AGO                       Angola  2019   25209.999084\n",
       "356            ALB                      Albania  2019    4829.999924\n",
       "...            ...                          ...   ...            ...\n",
       "13711          WSM                        Samoa  2019     300.000012\n",
       "13780          YEM                  Yemen, Rep.  2019   11100.000381\n",
       "13840          ZAF                 South Africa  2019  439640.014648\n",
       "13896          ZMB                       Zambia  2019    6800.000191\n",
       "13952          ZWE                     Zimbabwe  2019   11760.000229\n",
       "\n",
       "[239 rows x 4 columns]"
      ]
     },
     "execution_count": 26,
     "metadata": {},
     "output_type": "execute_result"
    }
   ],
   "source": [
    "# filtrar apenas para aparecer info de países que tenham dados em 2018 e 2019\n",
    "df_2018 = df_2.loc[(df_2['year']==2018)]\n",
    "df_2019 = df_2.loc[(df_2['year']==2019)]\n",
    "df_2019\n",
    "# country_name tem 239 em ambos os datasets de ano"
   ]
  },
  {
   "cell_type": "code",
   "execution_count": 27,
   "metadata": {},
   "outputs": [
    {
     "data": {
      "text/plain": [
       "True"
      ]
     },
     "execution_count": 27,
     "metadata": {},
     "output_type": "execute_result"
    }
   ],
   "source": [
    "#verifica se são os mesmos países em ambos os datasets criados\n",
    "df_2018['country_name'].unique().tolist() == df_2019['country_name'].unique().tolist()"
   ]
  },
  {
   "cell_type": "code",
   "execution_count": 28,
   "metadata": {},
   "outputs": [
    {
     "data": {
      "text/plain": [
       "25209.9990844727"
      ]
     },
     "execution_count": 28,
     "metadata": {},
     "output_type": "execute_result"
    }
   ],
   "source": [
    "float(df_2019.loc[df_2019['country_name'] == 'Angola', 'value'])"
   ]
  },
  {
   "cell_type": "code",
   "execution_count": 29,
   "metadata": {},
   "outputs": [
    {
     "data": {
      "text/plain": [
       "5.217028579980479"
      ]
     },
     "execution_count": 29,
     "metadata": {},
     "output_type": "execute_result"
    }
   ],
   "source": [
    "# teste de cálculo do percenetual de aumento para o país Angola\n",
    "(float(df_2019.loc[df_2019['country_name'] == 'Angola', 'value']) / float(df_2018.loc[df_2018['country_name'] == 'Angola', 'value']))*100 - 100"
   ]
  },
  {
   "cell_type": "code",
   "execution_count": 47,
   "metadata": {},
   "outputs": [
    {
     "data": {
      "text/plain": [
       "['Africa Eastern and Southern',\n",
       " 'Afghanistan',\n",
       " 'Africa Western and Central',\n",
       " 'Angola',\n",
       " 'Albania',\n",
       " 'Andorra',\n",
       " 'Arab World',\n",
       " 'United Arab Emirates',\n",
       " 'Argentina',\n",
       " 'Armenia',\n",
       " 'Antigua and Barbuda',\n",
       " 'Australia',\n",
       " 'Austria',\n",
       " 'Azerbaijan',\n",
       " 'Burundi',\n",
       " 'Belgium',\n",
       " 'Benin',\n",
       " 'Burkina Faso',\n",
       " 'Bangladesh',\n",
       " 'Bulgaria',\n",
       " 'Bahrain',\n",
       " 'Bahamas, The',\n",
       " 'Bosnia and Herzegovina',\n",
       " 'Belarus',\n",
       " 'Belize',\n",
       " 'Bolivia',\n",
       " 'Brazil',\n",
       " 'Barbados',\n",
       " 'Brunei Darussalam',\n",
       " 'Bhutan',\n",
       " 'Botswana',\n",
       " 'Central African Republic',\n",
       " 'Canada',\n",
       " 'Central Europe and the Baltics',\n",
       " 'Switzerland',\n",
       " 'Chile',\n",
       " 'China',\n",
       " \"Cote d'Ivoire\",\n",
       " 'Cameroon',\n",
       " 'Congo, Dem. Rep.',\n",
       " 'Congo, Rep.',\n",
       " 'Colombia',\n",
       " 'Comoros',\n",
       " 'Cabo Verde',\n",
       " 'Costa Rica',\n",
       " 'Caribbean small states',\n",
       " 'Cuba',\n",
       " 'Cyprus',\n",
       " 'Czechia',\n",
       " 'Germany',\n",
       " 'Djibouti',\n",
       " 'Dominica',\n",
       " 'Denmark',\n",
       " 'Dominican Republic',\n",
       " 'Algeria',\n",
       " 'East Asia & Pacific (excluding high income)',\n",
       " 'Early-demographic dividend',\n",
       " 'East Asia & Pacific',\n",
       " 'Europe & Central Asia (excluding high income)',\n",
       " 'Europe & Central Asia',\n",
       " 'Ecuador',\n",
       " 'Egypt, Arab Rep.',\n",
       " 'Euro area',\n",
       " 'Eritrea',\n",
       " 'Spain',\n",
       " 'Estonia',\n",
       " 'Ethiopia',\n",
       " 'European Union',\n",
       " 'Fragile and conflict affected situations',\n",
       " 'Finland',\n",
       " 'Fiji',\n",
       " 'France',\n",
       " 'Micronesia, Fed. Sts.',\n",
       " 'Gabon',\n",
       " 'United Kingdom',\n",
       " 'Georgia',\n",
       " 'Ghana',\n",
       " 'Guinea',\n",
       " 'Gambia, The',\n",
       " 'Guinea-Bissau',\n",
       " 'Equatorial Guinea',\n",
       " 'Greece',\n",
       " 'Grenada',\n",
       " 'Guatemala',\n",
       " 'Guyana',\n",
       " 'High income',\n",
       " 'Honduras',\n",
       " 'Heavily indebted poor countries (HIPC)',\n",
       " 'Croatia',\n",
       " 'Haiti',\n",
       " 'Hungary',\n",
       " 'IBRD only',\n",
       " 'IDA & IBRD total',\n",
       " 'IDA total',\n",
       " 'IDA blend',\n",
       " 'Indonesia',\n",
       " 'IDA only',\n",
       " 'India',\n",
       " 'Ireland',\n",
       " 'Iran, Islamic Rep.',\n",
       " 'Iraq',\n",
       " 'Iceland',\n",
       " 'Israel',\n",
       " 'Italy',\n",
       " 'Jamaica',\n",
       " 'Jordan',\n",
       " 'Japan',\n",
       " 'Kazakhstan',\n",
       " 'Kenya',\n",
       " 'Kyrgyz Republic',\n",
       " 'Cambodia',\n",
       " 'Kiribati',\n",
       " 'St. Kitts and Nevis',\n",
       " 'Korea, Rep.',\n",
       " 'Kuwait',\n",
       " 'Latin America & Caribbean (excluding high income)',\n",
       " 'Lao PDR',\n",
       " 'Lebanon',\n",
       " 'Liberia',\n",
       " 'Libya',\n",
       " 'St. Lucia',\n",
       " 'Latin America & Caribbean',\n",
       " 'Least developed countries: UN classification',\n",
       " 'Low income',\n",
       " 'Liechtenstein',\n",
       " 'Sri Lanka',\n",
       " 'Lower middle income',\n",
       " 'Low & middle income',\n",
       " 'Lesotho',\n",
       " 'Late-demographic dividend',\n",
       " 'Lithuania',\n",
       " 'Luxembourg',\n",
       " 'Latvia',\n",
       " 'Morocco',\n",
       " 'Moldova',\n",
       " 'Madagascar',\n",
       " 'Maldives',\n",
       " 'Middle East & North Africa',\n",
       " 'Mexico',\n",
       " 'Marshall Islands',\n",
       " 'Middle income',\n",
       " 'North Macedonia',\n",
       " 'Mali',\n",
       " 'Malta',\n",
       " 'Myanmar',\n",
       " 'Middle East & North Africa (excluding high income)',\n",
       " 'Montenegro',\n",
       " 'Mongolia',\n",
       " 'Mozambique',\n",
       " 'Mauritania',\n",
       " 'Mauritius',\n",
       " 'Malawi',\n",
       " 'Malaysia',\n",
       " 'North America',\n",
       " 'Namibia',\n",
       " 'Niger',\n",
       " 'Nigeria',\n",
       " 'Nicaragua',\n",
       " 'Netherlands',\n",
       " 'Norway',\n",
       " 'Nepal',\n",
       " 'Nauru',\n",
       " 'New Zealand',\n",
       " 'OECD members',\n",
       " 'Oman',\n",
       " 'Other small states',\n",
       " 'Pakistan',\n",
       " 'Panama',\n",
       " 'Peru',\n",
       " 'Philippines',\n",
       " 'Palau',\n",
       " 'Papua New Guinea',\n",
       " 'Poland',\n",
       " 'Pre-demographic dividend',\n",
       " \"Korea, Dem. People's Rep.\",\n",
       " 'Portugal',\n",
       " 'Paraguay',\n",
       " 'Pacific island small states',\n",
       " 'Post-demographic dividend',\n",
       " 'Qatar',\n",
       " 'Romania',\n",
       " 'Russian Federation',\n",
       " 'Rwanda',\n",
       " 'South Asia',\n",
       " 'Saudi Arabia',\n",
       " 'Sudan',\n",
       " 'Senegal',\n",
       " 'Singapore',\n",
       " 'Solomon Islands',\n",
       " 'Sierra Leone',\n",
       " 'El Salvador',\n",
       " 'Somalia',\n",
       " 'Serbia',\n",
       " 'Sub-Saharan Africa (excluding high income)',\n",
       " 'South Sudan',\n",
       " 'Sub-Saharan Africa',\n",
       " 'Small states',\n",
       " 'Sao Tome and Principe',\n",
       " 'Suriname',\n",
       " 'Slovak Republic',\n",
       " 'Slovenia',\n",
       " 'Sweden',\n",
       " 'Eswatini',\n",
       " 'Seychelles',\n",
       " 'Syrian Arab Republic',\n",
       " 'Chad',\n",
       " 'East Asia & Pacific (IDA & IBRD countries)',\n",
       " 'Europe & Central Asia (IDA & IBRD countries)',\n",
       " 'Togo',\n",
       " 'Thailand',\n",
       " 'Tajikistan',\n",
       " 'Turkmenistan',\n",
       " 'Latin America & the Caribbean (IDA & IBRD countries)',\n",
       " 'Timor-Leste',\n",
       " 'Middle East & North Africa (IDA & IBRD countries)',\n",
       " 'Tonga',\n",
       " 'South Asia (IDA & IBRD)',\n",
       " 'Sub-Saharan Africa (IDA & IBRD countries)',\n",
       " 'Trinidad and Tobago',\n",
       " 'Tunisia',\n",
       " 'Turkiye',\n",
       " 'Tuvalu',\n",
       " 'Tanzania',\n",
       " 'Uganda',\n",
       " 'Ukraine',\n",
       " 'Upper middle income',\n",
       " 'Uruguay',\n",
       " 'United States',\n",
       " 'Uzbekistan',\n",
       " 'St. Vincent and the Grenadines',\n",
       " 'Venezuela, RB',\n",
       " 'Vietnam',\n",
       " 'Vanuatu',\n",
       " 'World',\n",
       " 'Samoa',\n",
       " 'Yemen, Rep.',\n",
       " 'South Africa',\n",
       " 'Zambia',\n",
       " 'Zimbabwe']"
      ]
     },
     "execution_count": 47,
     "metadata": {},
     "output_type": "execute_result"
    }
   ],
   "source": [
    "list(dict_percentuais.keys())"
   ]
  },
  {
   "cell_type": "code",
   "execution_count": 48,
   "metadata": {},
   "outputs": [
    {
     "name": "stdout",
     "output_type": "stream",
     "text": [
      "{'Africa Eastern and Southern': 2.2, 'Afghanistan': 0.16, 'Africa Western and Central': 4.26, 'Angola': 5.22, 'Albania': -5.48, 'Andorra': 2.04, 'Arab World': 2.69, 'United Arab Emirates': 6.63, 'Argentina': -4.97, 'Armenia': 8.06, 'Antigua and Barbuda': 1.96, 'Australia': -0.14, 'Austria': 2.71, 'Azerbaijan': 8.49, 'Burundi': 4.35, 'Belgium': -0.69, 'Benin': -1.62, 'Burkina Faso': 7.07, 'Bangladesh': 8.74, 'Bulgaria': -4.3, 'Bahrain': 7.95, 'Bahamas, The': 1.43, 'Bosnia and Herzegovina': -6.77, 'Belarus': -2.17, 'Belize': 1.59, 'Bolivia': -3.83, 'Brazil': 0.07, 'Barbados': 0.81, 'Brunei Darussalam': -7.29, 'Bhutan': 0.0, 'Botswana': -0.82, 'Central African Republic': 4.35, 'Canada': 0.02, 'Central Europe and the Baltics': -4.75, 'Switzerland': -0.27, 'Chile': 5.5, 'China': 1.95, \"Cote d'Ivoire\": 6.28, 'Cameroon': -1.67, 'Congo, Dem. Rep.': 2.88, 'Congo, Rep.': 11.86, 'Colombia': 3.12, 'Comoros': 6.67, 'Cabo Verde': 6.56, 'Costa Rica': -1.55, 'Caribbean small states': -0.03, 'Cuba': -3.0, 'Cyprus': -0.14, 'Czechia': -4.57, 'Germany': -7.11, 'Djibouti': 5.0, 'Dominica': 0.0, 'Denmark': -10.35, 'Dominican Republic': 7.59, 'Algeria': 3.45, 'East Asia & Pacific (excluding high income)': 2.76, 'Early-demographic dividend': 0.64, 'East Asia & Pacific': 1.96, 'Europe & Central Asia (excluding high income)': 0.55, 'Europe & Central Asia': -2.16, 'Ecuador': -2.12, 'Egypt, Arab Rep.': 0.59, 'Euro area': -4.93, 'Eritrea': 3.53, 'Spain': -6.64, 'Estonia': -33.55, 'Ethiopia': 6.5, 'European Union': -4.8, 'Fragile and conflict affected situations': 0.97, 'Finland': -8.68, 'Fiji': 0.0, 'France': -2.13, 'Micronesia, Fed. Sts.': 5.88, 'Gabon': 2.54, 'United Kingdom': -3.27, 'Georgia': 5.64, 'Ghana': 7.28, 'Guinea': 5.33, 'Gambia, The': 5.45, 'Guinea-Bissau': 3.13, 'Equatorial Guinea': -16.8, 'Greece': -7.72, 'Grenada': 3.13, 'Guatemala': 5.4, 'Guyana': 10.04, 'High income': -2.68, 'Honduras': 1.69, 'Heavily indebted poor countries (HIPC)': 2.83, 'Croatia': 0.55, 'Haiti': 0.91, 'Hungary': -0.04, 'IBRD only': 1.57, 'IDA & IBRD total': 1.66, 'IDA total': 3.87, 'IDA blend': 3.8, 'Indonesia': 7.43, 'IDA only': 3.95, 'India': 0.18, 'Ireland': -5.07, 'Iran, Islamic Rep.': -1.16, 'Iraq': 6.99, 'Iceland': -3.53, 'Israel': 2.57, 'Italy': -2.35, 'Jamaica': -2.56, 'Jordan': -0.61, 'Japan': -3.1, 'Kazakhstan': -2.07, 'Kenya': 27.39, 'Kyrgyz Republic': -10.67, 'Cambodia': 10.97, 'Kiribati': 0.0, 'St. Kitts and Nevis': 0.0, 'Korea, Rep.': -3.15, 'Kuwait': 1.38, 'Latin America & Caribbean (excluding high income)': -0.39, 'Lao PDR': -3.36, 'Lebanon': 0.58, 'Liberia': 4.42, 'Libya': 0.32, 'St. Lucia': 1.89, 'Latin America & Caribbean': -1.07, 'Least developed countries: UN classification': 5.03, 'Low income': 4.39, 'Liechtenstein': 7.14, 'Sri Lanka': 9.64, 'Lower middle income': 2.42, 'Low & middle income': 1.87, 'Lesotho': 5.48, 'Late-demographic dividend': 2.18, 'Lithuania': 0.69, 'Luxembourg': 1.82, 'Latvia': -2.82, 'Morocco': 10.04, 'Moldova': 3.75, 'Madagascar': 22.99, 'Maldives': 0.48, 'Middle East & North Africa': 1.73, 'Mexico': -0.73, 'Marshall Islands': 0.0, 'Middle income': 1.84, 'North Macedonia': 13.7, 'Mali': 6.58, 'Malta': 7.1, 'Myanmar': 11.48, 'Middle East & North Africa (excluding high income)': 1.21, 'Montenegro': 4.0, 'Mongolia': 7.05, 'Mozambique': 7.91, 'Mauritania': 7.05, 'Mauritius': 0.97, 'Malawi': 5.07, 'Malaysia': 3.63, 'North America': -2.83, 'Namibia': -0.24, 'Niger': 10.26, 'Nigeria': 4.9, 'Nicaragua': 2.54, 'Netherlands': -3.32, 'Norway': -4.36, 'Nepal': -11.45, 'Nauru': 0.0, 'New Zealand': 5.1, 'OECD members': -3.08, 'Oman': 0.57, 'Other small states': 0.92, 'Pakistan': 1.74, 'Panama': 32.6, 'Peru': 3.96, 'Philippines': 4.94, 'Palau': 0.0, 'Papua New Guinea': 0.26, 'Poland': -5.38, 'Pre-demographic dividend': 5.6, \"Korea, Dem. People's Rep.\": 10.9, 'Portugal': -9.82, 'Paraguay': -3.07, 'Pacific island small states': 0.59, 'Post-demographic dividend': -3.21, 'Qatar': 6.42, 'Romania': -1.65, 'Russian Federation': 2.56, 'Rwanda': 3.1, 'South Asia': 0.55, 'Saudi Arabia': 0.48, 'Sudan': -1.15, 'Senegal': 4.32, 'Singapore': -0.04, 'Solomon Islands': 0.0, 'Sierra Leone': 4.65, 'El Salvador': 14.54, 'Somalia': 4.55, 'Serbia': -0.39, 'Sub-Saharan Africa (excluding high income)': 2.74, 'South Sudan': 9.68, 'Sub-Saharan Africa': 2.75, 'Small states': 0.76, 'Sao Tome and Principe': 7.14, 'Suriname': 19.91, 'Slovak Republic': -5.82, 'Slovenia': -3.34, 'Sweden': -2.8, 'Eswatini': 5.49, 'Seychelles': 5.17, 'Syrian Arab Republic': -6.13, 'Chad': 2.74, 'East Asia & Pacific (IDA & IBRD countries)': 2.73, 'Europe & Central Asia (IDA & IBRD countries)': -0.06, 'Togo': 2.6, 'Thailand': 3.91, 'Tajikistan': 8.53, 'Turkmenistan': -0.25, 'Latin America & the Caribbean (IDA & IBRD countries)': -1.05, 'Timor-Leste': 1.64, 'Middle East & North Africa (IDA & IBRD countries)': 1.21, 'Tonga': 0.0, 'South Asia (IDA & IBRD)': 0.55, 'Sub-Saharan Africa (IDA & IBRD countries)': 2.75, 'Trinidad and Tobago': -3.32, 'Tunisia': 0.07, 'Turkiye': -3.62, 'Tuvalu': 0.0, 'Tanzania': 3.75, 'Uganda': 0.0, 'Ukraine': -5.87, 'Upper middle income': 1.64, 'Uruguay': -0.76, 'United States': -3.17, 'Uzbekistan': 3.77, 'St. Vincent and the Grenadines': 4.0, 'Venezuela, RB': -14.98, 'Vietnam': 17.82, 'Vanuatu': 0.0, 'World': 0.16, 'Samoa': 3.45, 'Yemen, Rep.': 14.2, 'South Africa': 1.22, 'Zambia': -12.03, 'Zimbabwe': -5.01}\n"
     ]
    },
    {
     "data": {
      "text/html": [
       "<div>\n",
       "<style scoped>\n",
       "    .dataframe tbody tr th:only-of-type {\n",
       "        vertical-align: middle;\n",
       "    }\n",
       "\n",
       "    .dataframe tbody tr th {\n",
       "        vertical-align: top;\n",
       "    }\n",
       "\n",
       "    .dataframe thead th {\n",
       "        text-align: right;\n",
       "    }\n",
       "</style>\n",
       "<table border=\"1\" class=\"dataframe\">\n",
       "  <thead>\n",
       "    <tr style=\"text-align: right;\">\n",
       "      <th></th>\n",
       "      <th>country</th>\n",
       "      <th>percentage</th>\n",
       "    </tr>\n",
       "  </thead>\n",
       "  <tbody>\n",
       "    <tr>\n",
       "      <th>0</th>\n",
       "      <td>Africa Eastern and Southern</td>\n",
       "      <td>2.20</td>\n",
       "    </tr>\n",
       "    <tr>\n",
       "      <th>1</th>\n",
       "      <td>Afghanistan</td>\n",
       "      <td>0.16</td>\n",
       "    </tr>\n",
       "    <tr>\n",
       "      <th>2</th>\n",
       "      <td>Africa Western and Central</td>\n",
       "      <td>4.26</td>\n",
       "    </tr>\n",
       "    <tr>\n",
       "      <th>3</th>\n",
       "      <td>Angola</td>\n",
       "      <td>5.22</td>\n",
       "    </tr>\n",
       "    <tr>\n",
       "      <th>4</th>\n",
       "      <td>Albania</td>\n",
       "      <td>-5.48</td>\n",
       "    </tr>\n",
       "    <tr>\n",
       "      <th>...</th>\n",
       "      <td>...</td>\n",
       "      <td>...</td>\n",
       "    </tr>\n",
       "    <tr>\n",
       "      <th>234</th>\n",
       "      <td>Samoa</td>\n",
       "      <td>3.45</td>\n",
       "    </tr>\n",
       "    <tr>\n",
       "      <th>235</th>\n",
       "      <td>Yemen, Rep.</td>\n",
       "      <td>14.20</td>\n",
       "    </tr>\n",
       "    <tr>\n",
       "      <th>236</th>\n",
       "      <td>South Africa</td>\n",
       "      <td>1.22</td>\n",
       "    </tr>\n",
       "    <tr>\n",
       "      <th>237</th>\n",
       "      <td>Zambia</td>\n",
       "      <td>-12.03</td>\n",
       "    </tr>\n",
       "    <tr>\n",
       "      <th>238</th>\n",
       "      <td>Zimbabwe</td>\n",
       "      <td>-5.01</td>\n",
       "    </tr>\n",
       "  </tbody>\n",
       "</table>\n",
       "<p>239 rows × 2 columns</p>\n",
       "</div>"
      ],
      "text/plain": [
       "                         country  percentage\n",
       "0    Africa Eastern and Southern        2.20\n",
       "1                    Afghanistan        0.16\n",
       "2     Africa Western and Central        4.26\n",
       "3                         Angola        5.22\n",
       "4                        Albania       -5.48\n",
       "..                           ...         ...\n",
       "234                        Samoa        3.45\n",
       "235                  Yemen, Rep.       14.20\n",
       "236                 South Africa        1.22\n",
       "237                       Zambia      -12.03\n",
       "238                     Zimbabwe       -5.01\n",
       "\n",
       "[239 rows x 2 columns]"
      ]
     },
     "execution_count": 48,
     "metadata": {},
     "output_type": "execute_result"
    }
   ],
   "source": [
    "#lista com todos os países\n",
    "countries_list = df_2018['country_name'].unique().tolist()\n",
    "\n",
    "dict_percentuais = {}\n",
    "\n",
    "#for que cria um dicionário com o país e aumento percentual de 2018 para 2019\n",
    "for country in countries_list:\n",
    "    perc = (float(df_2019.loc[df_2019['country_name'] == country, 'value']) / float(df_2018.loc[df_2018['country_name'] == country, 'value']))*100 - 100\n",
    "    dict_percentuais[country] = round(perc, 2)\n",
    "\n",
    "print(dict_percentuais)\n",
    "\n",
    "dict_aux = {'country':list(dict_percentuais.keys()),'percentage':list(dict_percentuais.values())}\n",
    "# converte o dicionário para um DataFrame\n",
    "df_percentuais = pd.DataFrame.from_dict(dict_aux)\n",
    "df_percentuais"
   ]
  },
  {
   "cell_type": "code",
   "execution_count": 57,
   "metadata": {},
   "outputs": [
    {
     "data": {
      "text/html": [
       "<div>\n",
       "<style scoped>\n",
       "    .dataframe tbody tr th:only-of-type {\n",
       "        vertical-align: middle;\n",
       "    }\n",
       "\n",
       "    .dataframe tbody tr th {\n",
       "        vertical-align: top;\n",
       "    }\n",
       "\n",
       "    .dataframe thead th {\n",
       "        text-align: right;\n",
       "    }\n",
       "</style>\n",
       "<table border=\"1\" class=\"dataframe\">\n",
       "  <thead>\n",
       "    <tr style=\"text-align: right;\">\n",
       "      <th></th>\n",
       "      <th>country</th>\n",
       "      <th>percentage</th>\n",
       "    </tr>\n",
       "  </thead>\n",
       "  <tbody>\n",
       "    <tr>\n",
       "      <th>144</th>\n",
       "      <td>Myanmar</td>\n",
       "      <td>11.48</td>\n",
       "    </tr>\n",
       "    <tr>\n",
       "      <th>40</th>\n",
       "      <td>Congo, Rep.</td>\n",
       "      <td>11.86</td>\n",
       "    </tr>\n",
       "    <tr>\n",
       "      <th>141</th>\n",
       "      <td>North Macedonia</td>\n",
       "      <td>13.70</td>\n",
       "    </tr>\n",
       "    <tr>\n",
       "      <th>235</th>\n",
       "      <td>Yemen, Rep.</td>\n",
       "      <td>14.20</td>\n",
       "    </tr>\n",
       "    <tr>\n",
       "      <th>190</th>\n",
       "      <td>El Salvador</td>\n",
       "      <td>14.54</td>\n",
       "    </tr>\n",
       "    <tr>\n",
       "      <th>231</th>\n",
       "      <td>Vietnam</td>\n",
       "      <td>17.82</td>\n",
       "    </tr>\n",
       "    <tr>\n",
       "      <th>198</th>\n",
       "      <td>Suriname</td>\n",
       "      <td>19.91</td>\n",
       "    </tr>\n",
       "    <tr>\n",
       "      <th>135</th>\n",
       "      <td>Madagascar</td>\n",
       "      <td>22.99</td>\n",
       "    </tr>\n",
       "    <tr>\n",
       "      <th>108</th>\n",
       "      <td>Kenya</td>\n",
       "      <td>27.39</td>\n",
       "    </tr>\n",
       "    <tr>\n",
       "      <th>167</th>\n",
       "      <td>Panama</td>\n",
       "      <td>32.60</td>\n",
       "    </tr>\n",
       "  </tbody>\n",
       "</table>\n",
       "</div>"
      ],
      "text/plain": [
       "             country  percentage\n",
       "144          Myanmar       11.48\n",
       "40       Congo, Rep.       11.86\n",
       "141  North Macedonia       13.70\n",
       "235      Yemen, Rep.       14.20\n",
       "190      El Salvador       14.54\n",
       "231          Vietnam       17.82\n",
       "198         Suriname       19.91\n",
       "135       Madagascar       22.99\n",
       "108            Kenya       27.39\n",
       "167           Panama       32.60"
      ]
     },
     "execution_count": 57,
     "metadata": {},
     "output_type": "execute_result"
    }
   ],
   "source": [
    "# filtra os top 10 países\n",
    "df_percentuais = df_percentuais.sort_values(by = 'percentage', ascending=True)[-10:]\n",
    "df_percentuais"
   ]
  },
  {
   "cell_type": "code",
   "execution_count": 59,
   "metadata": {},
   "outputs": [
    {
     "data": {
      "text/plain": [
       "<Axes: title={'center': 'Top 10 países com maiores aumentos percentuais de emissão entre 2018 e 2019'}, ylabel='country'>"
      ]
     },
     "execution_count": 59,
     "metadata": {},
     "output_type": "execute_result"
    },
    {
     "data": {
      "image/png": "[encoded data removed]",
      "text/plain": [
       "<Figure size 640x480 with 1 Axes>"
      ]
     },
     "metadata": {},
     "output_type": "display_data"
    }
   ],
   "source": [
    "df_percentuais.plot(kind='barh', x='country', y='percentage',\n",
    "                    title='Top 10 países com maiores aumentos percentuais de emissão entre 2018 e 2019',\n",
    "                    legend=False)"
   ]
  },
  {
   "cell_type": "code",
   "execution_count": 77,
   "metadata": {},
   "outputs": [
    {
     "data": {
      "image/png": "[encoded data removed]",
      "text/plain": [
       "<Figure size 432x288 with 1 Axes>"
      ]
     },
     "metadata": {
      "needs_background": "light"
     },
     "output_type": "display_data"
    }
   ],
   "source": [
    "# output esperado"
   ]
  }
 ],
 "metadata": {
  "kernelspec": {
   "display_name": "Python 3",
   "language": "python",
   "name": "python3"
  },
  "language_info": {
   "codemirror_mode": {
    "name": "ipython",
    "version": 3
   },
   "file_extension": ".py",
   "mimetype": "text/x-python",
   "name": "python",
   "nbconvert_exporter": "python",
   "pygments_lexer": "ipython3",
   "version": "3.11.1"
  }
 },
 "nbformat": 4,
 "nbformat_minor": 4
}
